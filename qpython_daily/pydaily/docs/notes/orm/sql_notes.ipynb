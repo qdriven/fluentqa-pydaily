{
 "cells": [
  {
   "cell_type": "markdown",
   "source": [
    "# Python Database/SQL PostgreSQL intro\n",
    "\n",
    "## 基本概念\n",
    "\n",
    "- connection: 连接\n",
    "- cursor: 游标\n",
    "- 基本数据库操作CRUD\n",
    "  * Create: Insert\n",
    "  * Read: SQL-Query\n",
    "  * Update: update\n",
    "  * Delete: DELETE\n",
    "\n",
    "使用postgresql,需要先添加依赖:\n",
    "\n",
    "```shell\n",
    "poetry add psycopg2-binary\n",
    "```"
   ],
   "metadata": {
    "collapsed": false,
    "pycharm": {
     "name": "#%% md\n"
    }
   }
  },
  {
   "cell_type": "markdown",
   "source": [
    "## 数据库SQL 基础\n",
    "\n",
    "数据库SQL的CRUD的操作,对应到数据库的语句就是select,insert,update,delete.\n",
    "\n",
    "示范:\n",
    "- select\n",
    "```sql\n",
    "select * from meta.database\n",
    "```\n",
    "- insert\n",
    "```sql\n",
    "insert into meta.database (id, u_id, name, version, published_year, description, link, created_at, updated_at, is_valid)\n",
    "values ();\n",
    "```\n",
    "\n",
    "- update\n",
    "```sql\n",
    "update meta.database\n",
    "set  name='test'\n",
    "where id=1;\n",
    "```\n",
    "\n",
    "- delete\n",
    "\n",
    "```sql\n",
    "delete from meta.database where name='test';\n",
    "```\n",
    "\n",
    "使用python操作数据库，其实本质上可以理解就是执行这些从python的库户端发送这些SQL到数据库服务器\n",
    "![img](database= db.png)\n",
    "\n",
    "## Python 操做数据\n",
    "\n",
    "- connection\n",
    "- SQL语句\n",
    "- 获取返回值"
   ],
   "metadata": {
    "collapsed": false,
    "pycharm": {
     "name": "#%% md\n"
    }
   }
  },
  {
   "cell_type": "code",
   "execution_count": null,
   "outputs": [],
   "source": [],
   "metadata": {
    "collapsed": false,
    "pycharm": {
     "name": "#%%\n",
     "is_executing": true
    }
   }
  },
  {
   "cell_type": "code",
   "execution_count": null,
   "outputs": [],
   "source": [],
   "metadata": {
    "collapsed": false,
    "pycharm": {
     "name": "#%%\n"
    }
   }
  }
 ],
 "metadata": {
  "kernelspec": {
   "display_name": "Python 3",
   "language": "python",
   "name": "python3"
  },
  "language_info": {
   "codemirror_mode": {
    "name": "ipython",
    "version": 2
   },
   "file_extension": ".py",
   "mimetype": "text/x-python",
   "name": "python",
   "nbconvert_exporter": "python",
   "pygments_lexer": "ipython2",
   "version": "2.7.6"
  }
 },
 "nbformat": 4,
 "nbformat_minor": 0
}