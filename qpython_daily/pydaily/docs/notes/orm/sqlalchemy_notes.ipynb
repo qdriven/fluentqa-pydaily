{
 "cells": [
  {
   "cell_type": "markdown",
   "source": [
    "# sqlalchemy intro"
   ],
   "metadata": {
    "collapsed": false,
    "pycharm": {
     "name": "#%% md\n"
    }
   }
  },
  {
   "cell_type": "code",
   "execution_count": 1,
   "outputs": [
    {
     "name": "stdout",
     "output_type": "stream",
     "text": [
      "Engine(sqlite:///demo.sqlite)\n",
      "<sqlalchemy.future.engine.Connection object at 0x107c0dde0>\n",
      "<class 'sqlalchemy.orm.decl_api.Base'>\n"
     ]
    }
   ],
   "source": [
    "from sqlalchemy.future import create_engine\n",
    "from sqlalchemy.orm import declarative_base, sessionmaker\n",
    "\n",
    "Base = declarative_base()\n",
    "engine = create_engine(\"sqlite:///demo.sqlite\", echo=True, future=True)\n",
    "_SessionFactory = sessionmaker(bind=engine)\n",
    "print(engine)\n",
    "print(engine.connect())\n",
    "print(Base)"
   ],
   "metadata": {
    "collapsed": false,
    "pycharm": {
     "name": "#%%\n"
    }
   }
  },
  {
   "cell_type": "code",
   "execution_count": null,
   "outputs": [],
   "source": [],
   "metadata": {
    "collapsed": false,
    "pycharm": {
     "name": "#%%\n"
    }
   }
  }
 ],
 "metadata": {
  "kernelspec": {
   "display_name": "Python 3",
   "language": "python",
   "name": "python3"
  },
  "language_info": {
   "codemirror_mode": {
    "name": "ipython",
    "version": 2
   },
   "file_extension": ".py",
   "mimetype": "text/x-python",
   "name": "python",
   "nbconvert_exporter": "python",
   "pygments_lexer": "ipython2",
   "version": "2.7.6"
  }
 },
 "nbformat": 4,
 "nbformat_minor": 0
}