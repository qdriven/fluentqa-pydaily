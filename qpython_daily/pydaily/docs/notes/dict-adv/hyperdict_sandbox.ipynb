{
 "nbformat": 4,
 "nbformat_minor": 0,
 "metadata": {
  "colab": {
   "name": "hyperdict-sandbox",
   "provenance": []
  },
  "kernelspec": {
   "name": "python3",
   "display_name": "Python 3"
  },
  "language_info": {
   "name": "python"
  }
 },
 "cells": [
  {
   "cell_type": "markdown",
   "metadata": {
    "id": "FIagsO2h43OD",
    "pycharm": {
     "name": "#%% md\n"
    }
   },
   "source": [
    "# `hyperdict` sandbox\n",
    "> _Here we will show the varius functions, attributes and some magic using the dict-on-steroid `hyperdict`_"
   ]
  },
  {
   "cell_type": "markdown",
   "metadata": {
    "id": "4J-RIAZc5Ylx",
    "pycharm": {
     "name": "#%% md\n"
    }
   },
   "source": [
    "### Installation\n",
    "Use any of the given installation commands on your environment.  \n",
    "1 . `pip install hyperdict`  \n",
    "2 . `poetry add hyperdict`  \n",
    "3 .`!pip install hyperdict`  "
   ]
  },
  {
   "cell_type": "code",
   "metadata": {
    "id": "eAIjEMWN2R0N",
    "colab": {
     "base_uri": "https://localhost:8080/"
    },
    "outputId": "73f3c645-ee0c-42c4-b4c1-a49b94d404bc",
    "pycharm": {
     "name": "#%%\n"
    }
   },
   "source": [
    "!pip install hyperdict"
   ],
   "execution_count": 25,
   "outputs": [
    {
     "output_type": "stream",
     "name": "stdout",
     "text": [
      "Requirement already satisfied: hyperdict in /usr/local/lib/python3.7/dist-packages (1.0.0)\n",
      "Requirement already satisfied: executing<0.7.0,>=0.6.0 in /usr/local/lib/python3.7/dist-packages (from hyperdict) (0.6.0)\n"
     ]
    }
   ]
  },
  {
   "cell_type": "markdown",
   "metadata": {
    "id": "cjUnK10y6CBS",
    "pycharm": {
     "name": "#%% md\n"
    }
   },
   "source": [
    "### Importing the Library"
   ]
  },
  {
   "cell_type": "code",
   "metadata": {
    "id": "6pFTPrPv2bW6",
    "pycharm": {
     "name": "#%%\n"
    }
   },
   "source": [
    "import hyperdict as hd"
   ],
   "execution_count": 26,
   "outputs": []
  },
  {
   "cell_type": "markdown",
   "metadata": {
    "id": "nskcx5SI3NKw",
    "pycharm": {
     "name": "#%% md\n"
    }
   },
   "source": [
    "### Introduction"
   ]
  },
  {
   "cell_type": "code",
   "metadata": {
    "id": "tSRtyz8g2whe",
    "pycharm": {
     "name": "#%%\n"
    }
   },
   "source": [
    "# Initializing an object\n",
    "d = hd.HyperDict()"
   ],
   "execution_count": 27,
   "outputs": []
  },
  {
   "cell_type": "code",
   "metadata": {
    "colab": {
     "base_uri": "https://localhost:8080/"
    },
    "id": "aao_cF_t3MbN",
    "outputId": "0d9e4d70-d50d-459d-d262-0801f7206dee",
    "pycharm": {
     "name": "#%%\n"
    }
   },
   "source": [
    "# hyperdict allows multi-setter construct using the hd.each() function\n",
    "d[\"name\", \"age\"] = hd.each(\"Magnus\", 32) # O(n) complexity\n",
    "d"
   ],
   "execution_count": 28,
   "outputs": [
    {
     "output_type": "execute_result",
     "data": {
      "text/plain": [
       "HyperDict({'name': 'Magnus', 'age': 32})"
      ]
     },
     "metadata": {},
     "execution_count": 28
    }
   ]
  },
  {
   "cell_type": "code",
   "metadata": {
    "colab": {
     "base_uri": "https://localhost:8080/"
    },
    "id": "kzeayBFV32C-",
    "outputId": "21f9298c-d0e3-4a25-bb27-ec526581840d",
    "pycharm": {
     "name": "#%%\n"
    }
   },
   "source": [
    "# Similarly we have a multi-getter construct \n",
    "d['skills'] = ['chess', 'football']\n",
    "print(d[\"age\", \"skills\"]) # O(n) complexity\n",
    "print(d['age'])"
   ],
   "execution_count": 29,
   "outputs": [
    {
     "output_type": "stream",
     "name": "stdout",
     "text": [
      "(32, ['chess', 'football'])\n",
      "32\n"
     ]
    }
   ]
  },
  {
   "cell_type": "code",
   "metadata": {
    "id": "lVWF--ef36DO",
    "colab": {
     "base_uri": "https://localhost:8080/"
    },
    "outputId": "cfc02cc3-af0c-48a3-8d1a-47b4122f0431",
    "pycharm": {
     "name": "#%%\n"
    }
   },
   "source": [
    "# for Invalide keys, hyperdict return an NoKey Object\n",
    "print(d['country'])\n",
    "\n",
    "# this can be changed using the change_no_key()\n",
    "d.change_no_key('Missing key!')\n",
    "\n",
    "print(d['country'])"
   ],
   "execution_count": 30,
   "outputs": [
    {
     "output_type": "stream",
     "name": "stdout",
     "text": [
      "<class 'hyperdict.hyperdict.NoKey'>\n",
      "Missing key!\n"
     ]
    }
   ]
  },
  {
   "cell_type": "code",
   "metadata": {
    "colab": {
     "base_uri": "https://localhost:8080/"
    },
    "id": "dBgvzMdgF4iC",
    "outputId": "e252ebd9-c214-4c21-c2f4-6538de08e50b",
    "pycharm": {
     "name": "#%%\n"
    }
   },
   "source": [
    "# keys(), values() and items()\n",
    "# These are more easily accessed in hyperdict by means of attributes!\n",
    "print(d.k)\n",
    "print(d.v)\n",
    "print(d.i)"
   ],
   "execution_count": 31,
   "outputs": [
    {
     "output_type": "stream",
     "name": "stdout",
     "text": [
      "['name', 'age', 'skills']\n",
      "['Magnus', 32, ['chess', 'football']]\n",
      "(('name', 'Magnus'), ('age', 32), ('skills', ['chess', 'football']))\n"
     ]
    }
   ]
  },
  {
   "cell_type": "markdown",
   "metadata": {
    "id": "Xoy4HxA_9MC6",
    "pycharm": {
     "name": "#%% md\n"
    }
   },
   "source": [
    "We can see how hyperdict is very flexible with the common functionalities found in other customized dictionaries across the python ecosystem.  \n",
    "\n",
    "But, this is just the beginning! Let's dive deeper and see what hyperdict can actually do.\n"
   ]
  },
  {
   "cell_type": "markdown",
   "metadata": {
    "id": "QzCOnciS9CaD",
    "pycharm": {
     "name": "#%% md\n"
    }
   },
   "source": [
    "### Diving Deeper\n"
   ]
  },
  {
   "cell_type": "code",
   "metadata": {
    "colab": {
     "base_uri": "https://localhost:8080/"
    },
    "id": "WcB-D8No3_j3",
    "outputId": "a3d2532c-cae9-4bed-9bce-0230c16d42b4",
    "pycharm": {
     "name": "#%%\n"
    }
   },
   "source": [
    "# A Multi-setter to retireve keys when value is given!\n",
    "\n",
    "print(d('Magnus'))\n",
    "print(d('Magnus', 32))"
   ],
   "execution_count": 32,
   "outputs": [
    {
     "output_type": "stream",
     "name": "stdout",
     "text": [
      "('name',)\n",
      "(('name',), ('age',))\n"
     ]
    }
   ]
  },
  {
   "cell_type": "code",
   "metadata": {
    "colab": {
     "base_uri": "https://localhost:8080/"
    },
    "id": "9Rk64Qc9CRAh",
    "outputId": "33a27811-2c04-469d-b1d4-03e3b5de5ff2",
    "pycharm": {
     "name": "#%%\n"
    }
   },
   "source": [
    "# for invalid values, we return an NoValue Onject\n",
    "print(d('Carlsen'))\n",
    "\n",
    "d.change_no_value('No value!')\n",
    "\n",
    "print(d('Carlsen'))"
   ],
   "execution_count": 33,
   "outputs": [
    {
     "output_type": "stream",
     "name": "stdout",
     "text": [
      "<class 'hyperdict.hyperdict.NoValue'>\n",
      "No value!\n"
     ]
    }
   ]
  },
  {
   "cell_type": "code",
   "metadata": {
    "colab": {
     "base_uri": "https://localhost:8080/"
    },
    "id": "RgLK204c4GyK",
    "outputId": "ce2006cb-4997-46c0-f687-abcad3cef241",
    "pycharm": {
     "name": "#%%\n"
    }
   },
   "source": [
    "# to_hd function - It is a powerful function inspired by javascript's Json formatting\n",
    "book = \"Atomic Habtis\"\n",
    "author = \"James Clear\"\n",
    "about = \"Tiny habits makes the biggest difference\"\n",
    "\n",
    "book_details = hd.to_hd(book, author, about)\n",
    "book_details"
   ],
   "execution_count": 34,
   "outputs": [
    {
     "output_type": "execute_result",
     "data": {
      "text/plain": [
       "HyperDict({'book': 'Atomic Habtis', 'author': 'James Clear', 'about': 'Tiny habits makes the biggest difference'})"
      ]
     },
     "metadata": {},
     "execution_count": 34
    }
   ]
  },
  {
   "cell_type": "markdown",
   "metadata": {
    "id": "4bId_D25D0WP",
    "pycharm": {
     "name": "#%% md\n"
    }
   },
   "source": [
    "### Operators in hyperdict"
   ]
  },
  {
   "cell_type": "code",
   "metadata": {
    "colab": {
     "base_uri": "https://localhost:8080/"
    },
    "id": "BRwswU3t4JDC",
    "outputId": "f254fbb8-d2fd-4278-c5a3-89bc96aa3bd0",
    "pycharm": {
     "name": "#%%\n"
    }
   },
   "source": [
    "# the complement operator - useful to swap keys to values.\n",
    "# WARNING : This works only on Hashable datatypes namely: String, Integer, tuple\n",
    "\n",
    "alphabet = hd.HyperDict({'A':1, \"B\": 2, \"C\": 3})\n",
    "print(alphabet)\n",
    "print(~alphabet)"
   ],
   "execution_count": 35,
   "outputs": [
    {
     "output_type": "stream",
     "name": "stdout",
     "text": [
      "HyperDict({'A': 1, 'B': 2, 'C': 3})\n",
      "HyperDict({1: 'A', 2: 'B', 3: 'C'})\n"
     ]
    }
   ]
  },
  {
   "cell_type": "code",
   "metadata": {
    "colab": {
     "base_uri": "https://localhost:8080/"
    },
    "id": "jo9zY3WP4MOS",
    "outputId": "97696f73-a8b4-498f-d201-cad09e97b9fe",
    "pycharm": {
     "name": "#%%\n"
    }
   },
   "source": [
    "# the copy operator - returns a  copy of the dictionary as type 'dict'\n",
    "print(+alphabet)\n",
    "type(+alphabet)"
   ],
   "execution_count": 36,
   "outputs": [
    {
     "output_type": "stream",
     "name": "stdout",
     "text": [
      "{'A': 1, 'B': 2, 'C': 3}\n"
     ]
    },
    {
     "output_type": "execute_result",
     "data": {
      "text/plain": [
       "dict"
      ]
     },
     "metadata": {},
     "execution_count": 36
    }
   ]
  },
  {
   "cell_type": "code",
   "metadata": {
    "id": "a8NPWemc4PpS",
    "colab": {
     "base_uri": "https://localhost:8080/"
    },
    "outputId": "a517a164-2ce1-47c0-bd60-6fb06985ddd2",
    "pycharm": {
     "name": "#%%\n"
    }
   },
   "source": [
    "# the clear operator - clear the current hyperdict\n",
    "print(-d)\n",
    "d # the object is cleared "
   ],
   "execution_count": 37,
   "outputs": [
    {
     "output_type": "stream",
     "name": "stdout",
     "text": [
      "HyperDict({})\n"
     ]
    },
    {
     "output_type": "execute_result",
     "data": {
      "text/plain": [
       "HyperDict({})"
      ]
     },
     "metadata": {},
     "execution_count": 37
    }
   ]
  },
  {
   "cell_type": "markdown",
   "metadata": {
    "id": "DRky6xQQGjKl",
    "pycharm": {
     "name": "#%% md\n"
    }
   },
   "source": [
    "### **_Note:_** All the methods that are available with the in-built dictionary in Python are also **available** with `hyperdict`.\n",
    "Hyper dict is a mere **extension** of the inbuilt dictionary in Python. The purpose of this sandbox is demonstrate the numerous additional features of hyperdict and not show the in-built dictionary methods.\n",
    "\n",
    "~ Jofin F Archbald."
   ]
  }
 ]
}